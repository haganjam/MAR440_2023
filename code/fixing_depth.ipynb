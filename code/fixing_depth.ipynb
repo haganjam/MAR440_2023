{
 "cells": [
  {
   "cell_type": "code",
   "execution_count": 2,
   "metadata": {
    "tags": []
   },
   "outputs": [],
   "source": [
    "import xarray as xr\n",
    "import pandas as pd\n",
    "import matplotlib.pyplot as plt\n",
    "import matplotlib.dates as mdates\n",
    "import numpy as np\n",
    "import cmocean.cm as cmo\n",
    "#import cartopy.crs as ccrs\n",
    "#import cartopy.feature as cfeature\n",
    "import matplotlib as mpl\n",
    "import gsw\n",
    "import warnings\n",
    "from matplotlib.lines import Line2D\n",
    "from mpl_toolkits.axes_grid1.inset_locator import inset_axes\n",
    "warnings.filterwarnings(\"ignore\")\n",
    "#import OWSLib\n",
    "font = {'size'   : 13}\n",
    "mpl.rc('font', **font)"
   ]
  },
  {
   "cell_type": "code",
   "execution_count": 20,
   "metadata": {
    "tags": []
   },
   "outputs": [],
   "source": [
    "station_info = pd.read_csv('byfjorden_clean_data.csv') # import your data\n",
    "ctd_data_2021 =pd.read_csv('v2_data_2021.csv') # import your data"
   ]
  },
  {
   "cell_type": "code",
   "execution_count": 21,
   "metadata": {
    "tags": []
   },
   "outputs": [],
   "source": [
    "# divide datat into years\n",
    "ctd_data_2019 = station_info[station_info['Year'] == 2019]\n",
    "ctd_data_2020 = station_info[station_info['Year'] == 2020]\n",
    "#ctd_data_2021 = station_info[station_info['Year'] == 2021]\n",
    "ctd_data_2022 = station_info[station_info['Year'] == 2022]\n",
    "ctd_data_2023 = station_info[station_info['Year'] == 2023]"
   ]
  },
  {
   "cell_type": "code",
   "execution_count": 4,
   "metadata": {},
   "outputs": [],
   "source": [
    "#taking out stations\n",
    "ctd_data_2022 = ctd_data_2022[ctd_data_2022['STATION'] != 'ST_4'] #this station seems off and doesn't load sometimes\n",
    "ctd_data_2022 = ctd_data_2022[ctd_data_2022['STATION'] != 'ST_6'] #this station is in Havstensfjord"
   ]
  },
  {
   "cell_type": "code",
   "execution_count": 22,
   "metadata": {
    "tags": []
   },
   "outputs": [],
   "source": [
    "#change data to array type data\n",
    "array_2019 = ctd_data_2019.to_xarray().set_coords(['STATION'])\n",
    "array_2020 = ctd_data_2020.to_xarray().set_coords(['STATION'])\n",
    "array_2021 = ctd_data_2021.to_xarray().set_coords(['STATION'])\n",
    "array_2022 = ctd_data_2022.to_xarray().set_coords(['STATION'])\n",
    "array_2023 = ctd_data_2023.to_xarray().set_coords(['STATION'])"
   ]
  },
  {
   "cell_type": "code",
   "execution_count": 14,
   "metadata": {},
   "outputs": [
    {
     "name": "stdout",
     "output_type": "stream",
     "text": [
      "ST_1\n",
      "ST_2\n",
      "ST_6\n"
     ]
    }
   ],
   "source": [
    "#Station griding loop for year 2019\n",
    "temp_2019 = []\n",
    "\n",
    "for station in np.unique(array_2019.STATION):                # the index in station -> the loop goes throu every station\n",
    "    \n",
    "    step1 = array_2019.groupby('STATION')[station]           # grouping every station together\n",
    "    step2 = step1.set_coords('depSM')                 # determin prDM as a coordinate\n",
    "    step3 = step2.swap_dims({'index':'depSM'})        # replace the index dimension with prDM as a dimention\n",
    "    step4 = step3.sortby('prDM')                     # sort prDM so that they are in ascended order\n",
    "    \n",
    "    step7 = step4.expand_dims({'Station':[station]}) # adding station as a dimention\n",
    "\n",
    "    #step8 = step7.groupby('depSM').mean('depSM')       #already done at some point before, group the values by prDM groups, then culculate the mean of them\n",
    "\n",
    "    step9 = step7.interp(depSM=np.arange(0,50.5,0.5)) # the data is already in these steps; now interpolate it (grid it), this one should be with step 0.5 instead of 0.1\n",
    "    \n",
    "    temp_2019.append(step9)\n",
    "    print(station)"
   ]
  },
  {
   "cell_type": "code",
   "execution_count": 5,
   "metadata": {},
   "outputs": [
    {
     "name": "stdout",
     "output_type": "stream",
     "text": [
      "ST_1\n",
      "ST_2\n",
      "ST_3\n",
      "ST_8\n"
     ]
    }
   ],
   "source": [
    "#Station griding loop for year 2020\n",
    "temp_2020 = []\n",
    "\n",
    "for station in np.unique(array_2020.STATION):                # the index in station -> the loop goes throu every station\n",
    "    \n",
    "    step10 = array_2020.groupby('STATION')[station]           # grouping every station together\n",
    "    step11 = step10.set_coords('prDM')                 # determin prDM as a coordinate\n",
    "    step12 = step11.swap_dims({'index':'prDM'})        # replace the index dimension with prDM as a dimention\n",
    "    step13 = step12.sortby('prDM')                     # sort prDM so that they are in ascended order\n",
    "    \n",
    "    step14 = step13.expand_dims({'Station':[station]}) # adding station as a dimention\n",
    "\n",
    "    step15 = step14.groupby('prDM').mean('prDM')       # group the values by prDM groups, them culculate the mean of them\n",
    "\n",
    "    step16 = step15.interp(prDM=np.arange(0,50.1,0.1)) # now interpolate it (grid it), \n",
    "    \n",
    "    temp_2020.append(step16)\n",
    "    print(station)"
   ]
  },
  {
   "cell_type": "code",
   "execution_count": 23,
   "metadata": {
    "tags": []
   },
   "outputs": [
    {
     "name": "stdout",
     "output_type": "stream",
     "text": [
      "ST_10_tue\n",
      "ST_10_wed\n",
      "ST_1_thu\n",
      "ST_1_tue\n",
      "ST_1_wed\n",
      "ST_2_thu\n",
      "ST_2_tue\n",
      "ST_2_wed\n",
      "ST_3_thu\n",
      "ST_3_tue\n",
      "ST_3_wed\n",
      "ST_9_thu\n",
      "ST_9_wed\n"
     ]
    }
   ],
   "source": [
    "#Station griding loop for year 2021\n",
    "temp_2021 = []\n",
    "\n",
    "for station in np.unique(array_2021.STATION):                # the index in station -> the loop goes throu every station\n",
    "    \n",
    "    step17 = array_2021.groupby('STATION')[station]           # grouping every station together\n",
    "    step18 = step17.set_coords('prDM')                 # determin prDM as a coordinate\n",
    "    step19 = step18.swap_dims({'index':'prDM'})        # replace the index dimension with prDM as a dimention\n",
    "    step20 = step19.sortby('prDM')                     # sort prDM so that they are in ascended order\n",
    "    \n",
    "    step21 = step20.expand_dims({'Station':[station]}) # adding station as a dimention\n",
    "\n",
    "    step22 = step21.groupby('prDM').mean('prDM')       # group the values by prDM groups, them culculate the mean of them\n",
    "\n",
    "    step23 = step22.interp(prDM=np.arange(0,50.1,0.1)) # now interpolate it (grid it), \n",
    "    \n",
    "    temp_2021.append(step23)\n",
    "    print(station)"
   ]
  },
  {
   "cell_type": "code",
   "execution_count": 8,
   "metadata": {},
   "outputs": [
    {
     "name": "stdout",
     "output_type": "stream",
     "text": [
      "ST_1\n",
      "ST_2\n",
      "ST_3\n",
      "ST_5\n",
      "ST_B1\n",
      "ST_B1_1\n",
      "ST_B2\n",
      "ST_B2_1\n",
      "ST_B3\n"
     ]
    }
   ],
   "source": [
    "#Station griding loop for year 2022\n",
    "temp_2022 = []\n",
    "\n",
    "for station in np.unique(array_2022.STATION):                # the index in station -> the loop goes throu every station\n",
    "    \n",
    "    step24 = array_2022.groupby('STATION')[station]           # grouping every station together\n",
    "    step25 = step24.set_coords('prDM')                 # determin prDM as a coordinate\n",
    "    step26 = step25.swap_dims({'index':'prDM'})        # replace the index dimension with prDM as a dimention\n",
    "    step27 = step26.sortby('prDM')                     # sort prDM so that they are in ascended order\n",
    "    \n",
    "    step28 = step27.expand_dims({'Station':[station]}) # adding station as a dimention\n",
    "\n",
    "    step29 = step28.groupby('prDM').mean('prDM')       # group the values by prDM groups, them culculate the mean of them\n",
    "\n",
    "    step30 = step29.interp(prDM=np.arange(0,50.1,0.1)) # now interpolate it (grid it), \n",
    "    \n",
    "    temp_2022.append(step30)\n",
    "    print(station)"
   ]
  },
  {
   "cell_type": "code",
   "execution_count": null,
   "metadata": {},
   "outputs": [
    {
     "name": "stdout",
     "output_type": "stream",
     "text": [
      "ST_1\n"
     ]
    }
   ],
   "source": [
    "#Station griding loop for year 2023\n",
    "temp_2023 = []\n",
    "\n",
    "for station in np.unique(array_2023.STATION):                # the index in station -> the loop goes throu every station\n",
    "    \n",
    "    step31 = array_2023.groupby('STATION')[station]           # grouping every station together\n",
    "    step32 = step31.set_coords('prDM')                 # determin prDM as a coordinate\n",
    "    step33 = step32.swap_dims({'index':'prDM'})        # replace the index dimension with prDM as a dimention\n",
    "    step34 = step33.sortby('prDM')                     # sort prDM so that they are in ascended order\n",
    "    \n",
    "    step37 = step34.expand_dims({'Station':[station]}) # adding station as a dimention\n",
    "\n",
    "    step38 = step37.groupby('prDM').mean('prDM')       # group the values by prDM groups, them culculate the mean of them\n",
    "\n",
    "    step39 = step38.interp(prDM=np.arange(0,50.1,0.1)) # now interpolate it (grid it), \n",
    "    \n",
    "    temp_2023.append(step39)\n",
    "    print(station)"
   ]
  },
  {
   "cell_type": "code",
   "execution_count": 15,
   "metadata": {},
   "outputs": [],
   "source": [
    "DS_2019 = xr.concat(temp_2019,dim='Station')\n",
    "df_2019 = DS_2019.to_dataframe()\n",
    "df_2019.to_csv('2019_fixed_depth.csv')"
   ]
  },
  {
   "cell_type": "code",
   "execution_count": 6,
   "metadata": {},
   "outputs": [],
   "source": [
    "DS_2020 = xr.concat(temp_2020,dim='Station')\n",
    "df_2020 = DS_2020.to_dataframe()\n",
    "df_2020.to_csv('2020_fixed_depth.csv')"
   ]
  },
  {
   "cell_type": "code",
   "execution_count": 24,
   "metadata": {
    "tags": []
   },
   "outputs": [],
   "source": [
    "DS_2021 = xr.concat(temp_2021,dim='Station')\n",
    "df_2021 = DS_2021.to_dataframe()\n",
    "df_2021.to_csv('2021_fixed_depth.csv')"
   ]
  },
  {
   "cell_type": "code",
   "execution_count": 9,
   "metadata": {},
   "outputs": [],
   "source": [
    "DS_2022 = xr.concat(temp_2022,dim='Station')\n",
    "df_2022 = DS_2022.to_dataframe()\n",
    "df_2022.to_csv('2022_fixed_depth.csv')"
   ]
  },
  {
   "cell_type": "code",
   "execution_count": null,
   "metadata": {},
   "outputs": [],
   "source": [
    "DS_2023 = xr.concat(temp_2023,dim='Station')\n",
    "df_2023 = DS_2023.to_dataframe()\n",
    "df_2023.to_csv('2023_fixed_depth.csv')"
   ]
  }
 ],
 "metadata": {
  "kernelspec": {
   "display_name": "Python 3 (ipykernel)",
   "language": "python",
   "name": "python3"
  },
  "language_info": {
   "codemirror_mode": {
    "name": "ipython",
    "version": 3
   },
   "file_extension": ".py",
   "mimetype": "text/x-python",
   "name": "python",
   "nbconvert_exporter": "python",
   "pygments_lexer": "ipython3",
   "version": "3.11.5"
  }
 },
 "nbformat": 4,
 "nbformat_minor": 4
}
